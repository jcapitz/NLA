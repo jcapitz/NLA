{
 "cells": [
  {
   "cell_type": "markdown",
   "metadata": {},
   "source": [
    "# MATH578 Homework 1\n",
    "**Juan Carlos Apitz**\n",
    "\n",
    "**ID 012523821**"
   ]
  },
  {
   "cell_type": "code",
   "execution_count": 1,
   "metadata": {
    "collapsed": false
   },
   "outputs": [],
   "source": [
    "import numpy\n",
    "from numpy.linalg import norm\n",
    "from pandas import DataFrame\n",
    "import matplotlib.pyplot as plt\n",
    "from __future__ import division\n",
    "%matplotlib inline"
   ]
  },
  {
   "cell_type": "markdown",
   "metadata": {},
   "source": [
    "## Problem 1"
   ]
  },
  {
   "cell_type": "markdown",
   "metadata": {},
   "source": [
    "### Part a)"
   ]
  },
  {
   "cell_type": "markdown",
   "metadata": {},
   "source": [
    "***Create matrix $A$:***"
   ]
  },
  {
   "cell_type": "code",
   "execution_count": 2,
   "metadata": {
    "collapsed": false
   },
   "outputs": [],
   "source": [
    "A = numpy.array([[2.,1.,0.],\n",
    "               [1.,2.,1.],\n",
    "               [0.,1.,2.]])\n"
   ]
  },
  {
   "cell_type": "markdown",
   "metadata": {},
   "source": [
    "***Define a function to calculate the Modified Gram_Schmidt (algorithm 8.1 [NLA Trefethen & Bau])***"
   ]
  },
  {
   "cell_type": "code",
   "execution_count": 3,
   "metadata": {
    "collapsed": false
   },
   "outputs": [],
   "source": [
    "# Modified Gram-Schmidt (MGS)\n",
    "\n",
    "def mgs(A, show = 0):\n",
    "    m, n = A.shape\n",
    "    Q = numpy.zeros((m,n))\n",
    "    R = numpy.zeros((n,n))\n",
    "    V = A.copy()\n",
    "    for i in xrange(n):\n",
    "        R[i,i] = norm(V[:,i])\n",
    "        Q[:,i] = V[:,i]/R[i,i]\n",
    "        for j in xrange(i+1,n):\n",
    "            R[i,j] = numpy.dot(Q[:,i],V[:,j])\n",
    "            V[:,j] = V[:,j] - R[i,j] * Q[:,i]\n",
    "    if show == 1:\n",
    "        print 'Q = \\n{}'.format(Q)\n",
    "        print '\\nR = \\n{}'.format(R)\n",
    "    return {\"Q\":Q,\"R\":R}"
   ]
  },
  {
   "cell_type": "markdown",
   "metadata": {},
   "source": [
    "***Calculate the QR factorization of A***"
   ]
  },
  {
   "cell_type": "code",
   "execution_count": 4,
   "metadata": {
    "collapsed": false
   },
   "outputs": [
    {
     "name": "stdout",
     "output_type": "stream",
     "text": [
      "Q = \n",
      "[[ 0.89442719 -0.35856858  0.26726124]\n",
      " [ 0.4472136   0.71713717 -0.53452248]\n",
      " [ 0.          0.5976143   0.80178373]]\n",
      "\n",
      "R = \n",
      "[[ 2.23606798  1.78885438  0.4472136 ]\n",
      " [ 0.          1.67332005  1.91236577]\n",
      " [ 0.          0.          1.06904497]]\n"
     ]
    }
   ],
   "source": [
    "qra = mgs(A, show = 1)"
   ]
  },
  {
   "cell_type": "markdown",
   "metadata": {},
   "source": [
    "### Part b)"
   ]
  },
  {
   "cell_type": "markdown",
   "metadata": {},
   "source": [
    "***Define a function to calculate the Householder Reduced QR factorization for A***\n",
    "\n",
    "***From class we have the Householder full QR***"
   ]
  },
  {
   "cell_type": "code",
   "execution_count": 5,
   "metadata": {
    "collapsed": true
   },
   "outputs": [],
   "source": [
    "# this is the full QR version\n",
    "def full_house(A, show = 0):\n",
    "    m, n = A.shape\n",
    "    R = A.copy()\n",
    "    V = numpy.zeros((m,n))\n",
    "    Q = numpy.identity(m)\n",
    "    for k in xrange(n):\n",
    "        x = R[k:,k]\n",
    "        v = x.copy()\n",
    "        v[0] = v[0] + numpy.sign(x[0]) * norm(x)\n",
    "        v = v/norm(v)\n",
    "        R[k:,k:] = R[k:,k:] - 2 * numpy.outer(v, (numpy.dot(v, R[k:,k:])))\n",
    "        V[k:,k] = v\n",
    "    for k in xrange(n-1,-1,-1):\n",
    "        v = V[k:,k]\n",
    "        Q[k:,k:] = Q[k:,k:] - 2 * numpy.outer(v, (numpy.dot(v, Q[k:,k:])))\n",
    "    if show == 1:\n",
    "        print 'Q = \\n{}'.format(Q)\n",
    "        print '\\nR = \\n{}'.format(R)\n",
    "    return {\"Q\":Q,\"R\":R}"
   ]
  },
  {
   "cell_type": "markdown",
   "metadata": {},
   "source": [
    "***which produces the following factorization:***"
   ]
  },
  {
   "cell_type": "code",
   "execution_count": 6,
   "metadata": {
    "collapsed": false
   },
   "outputs": [
    {
     "name": "stdout",
     "output_type": "stream",
     "text": [
      "Q = \n",
      "[[-0.89442719  0.35856858 -0.26726124]\n",
      " [-0.4472136  -0.71713717  0.53452248]\n",
      " [ 0.         -0.5976143  -0.80178373]]\n",
      "\n",
      "R = \n",
      "[[-2.23606798 -1.78885438 -0.4472136 ]\n",
      " [ 0.         -1.67332005 -1.91236577]\n",
      " [ 0.          0.         -1.06904497]]\n"
     ]
    }
   ],
   "source": [
    "qrhf = full_house(A, show = 1)"
   ]
  },
  {
   "cell_type": "markdown",
   "metadata": {},
   "source": [
    "***Here $Q$ is $3\\times 3$ and $R$ is $3 \\times 3$.***"
   ]
  },
  {
   "cell_type": "markdown",
   "metadata": {},
   "source": [
    "***We can modify the above algorithm to produce the reduced version of the Householder QR factorization (also used in Problem 3):***"
   ]
  },
  {
   "cell_type": "code",
   "execution_count": 7,
   "metadata": {
    "collapsed": false
   },
   "outputs": [],
   "source": [
    "# this is the Thin QR version\n",
    "def thin_house(A, show = 0, show_spill = 0):\n",
    "    m, n = A.shape\n",
    "    R = A.copy()\n",
    "    V = numpy.zeros((m,n))\n",
    "    Q = numpy.concatenate((numpy.identity(n),numpy.zeros((m - n, n))))\n",
    "    for k in xrange(n):\n",
    "        x = R[k:,k]\n",
    "        v = x.copy()\n",
    "        v[0] = v[0] + numpy.sign(x[0]) * norm(x)\n",
    "        v = v/norm(v)\n",
    "        R[k:,k:] = R[k:,k:] - 2 * numpy.outer(v, (numpy.dot(v, R[k:,k:])))\n",
    "        if show_spill == 1:\n",
    "            print 'matrix block {}:'.format(R[k+1:,k+1:].shape),'\\n'\n",
    "            print DataFrame(data=R[k+1:,k+1:]),'\\n'\n",
    "        V[k:,k] = v\n",
    "    R = R[:n,:]\n",
    "    for k in xrange(n-1,-1,-1):\n",
    "        v = V[k:,k]\n",
    "        Q[k:,k:] = Q[k:,k:] - 2 * numpy.outer(v, (numpy.dot(v, Q[k:,k:])))\n",
    "    if show == 1:\n",
    "        print 'Q = \\n{}'.format(Q)\n",
    "        print '\\nR = \\n{}'.format(R)\n",
    "    return {\"Q\":Q,\"R\":R}"
   ]
  },
  {
   "cell_type": "code",
   "execution_count": 8,
   "metadata": {
    "collapsed": false
   },
   "outputs": [
    {
     "name": "stdout",
     "output_type": "stream",
     "text": [
      "Q = \n",
      "[[-0.89442719  0.35856858 -0.26726124]\n",
      " [-0.4472136  -0.71713717  0.53452248]\n",
      " [ 0.         -0.5976143  -0.80178373]]\n",
      "\n",
      "R = \n",
      "[[-2.23606798 -1.78885438 -0.4472136 ]\n",
      " [ 0.         -1.67332005 -1.91236577]\n",
      " [ 0.          0.         -1.06904497]]\n"
     ]
    }
   ],
   "source": [
    "qrht = thin_house(A, show =1)"
   ]
  },
  {
   "cell_type": "markdown",
   "metadata": {},
   "source": [
    "***Here $Q$ is $3\\times 3$ and $R$ is $3 \\times 3$ also.***"
   ]
  },
  {
   "cell_type": "markdown",
   "metadata": {},
   "source": [
    "***To illustrate the case when $m > n$ we can modify $A$:***"
   ]
  },
  {
   "cell_type": "code",
   "execution_count": 9,
   "metadata": {
    "collapsed": true
   },
   "outputs": [],
   "source": [
    "A = numpy.array([[2.,1.,0.],\n",
    "               [1.,2.,1.],\n",
    "               [0.,1.,2.],\n",
    "               [1.,0.,1.]])"
   ]
  },
  {
   "cell_type": "code",
   "execution_count": 10,
   "metadata": {
    "collapsed": false
   },
   "outputs": [
    {
     "name": "stdout",
     "output_type": "stream",
     "text": [
      "Q = \n",
      "[[-0.81649658  0.18257419  0.2236068 ]\n",
      " [-0.40824829 -0.73029674  0.2236068 ]\n",
      " [ 0.         -0.54772256 -0.67082039]\n",
      " [-0.40824829  0.36514837 -0.67082039]]\n",
      "\n",
      "R = \n",
      "[[ -2.44948974e+00  -1.63299316e+00  -8.16496581e-01]\n",
      " [  1.11022302e-16  -1.82574186e+00  -1.46059349e+00]\n",
      " [  0.00000000e+00   2.22044605e-16  -1.78885438e+00]]\n"
     ]
    }
   ],
   "source": [
    "qrht = thin_house(A, show = 1)"
   ]
  },
  {
   "cell_type": "markdown",
   "metadata": {},
   "source": [
    "***Here $Q$ is $4\\times 3$ and $R$ is $3 \\times 3$, which the output of the Thin-QR.***"
   ]
  },
  {
   "cell_type": "markdown",
   "metadata": {},
   "source": [
    "***And we can recover $A = QR$***"
   ]
  },
  {
   "cell_type": "code",
   "execution_count": 11,
   "metadata": {
    "collapsed": false
   },
   "outputs": [
    {
     "data": {
      "text/plain": [
       "array([[  2.00000000e+00,   1.00000000e+00,  -3.33066907e-16],\n",
       "       [  1.00000000e+00,   2.00000000e+00,   1.00000000e+00],\n",
       "       [ -6.08094194e-17,   1.00000000e+00,   2.00000000e+00],\n",
       "       [  1.00000000e+00,  -1.48952049e-16,   1.00000000e+00]])"
      ]
     },
     "execution_count": 11,
     "metadata": {},
     "output_type": "execute_result"
    }
   ],
   "source": [
    "numpy.dot(qrht['Q'],qrht['R'])"
   ]
  },
  {
   "cell_type": "markdown",
   "metadata": {},
   "source": [
    "### Part c)\n",
    "\n",
    "***Create a function that generates Lotkin Matrices for $n = 2,3,4,...$***"
   ]
  },
  {
   "cell_type": "code",
   "execution_count": 12,
   "metadata": {
    "collapsed": true
   },
   "outputs": [],
   "source": [
    "def lotkin(n):\n",
    "    L = numpy.zeros((n,n))\n",
    "    L[0,:] = 1\n",
    "    for i in xrange(1,n):\n",
    "        for j in xrange(n):\n",
    "            L[i,j] = 1/(i+j+1)\n",
    "    return L"
   ]
  },
  {
   "cell_type": "markdown",
   "metadata": {},
   "source": [
    "***Define the error metric function: $\\|Q^TQ - I\\|_F$***"
   ]
  },
  {
   "cell_type": "code",
   "execution_count": 13,
   "metadata": {
    "collapsed": false
   },
   "outputs": [],
   "source": [
    "def err(Q):\n",
    "    qtq = numpy.dot(Q.T,Q)\n",
    "    return norm(qtq - numpy.identity(qtq.shape[0]), ord= 'fro')"
   ]
  },
  {
   "cell_type": "markdown",
   "metadata": {},
   "source": [
    "***Generate the Lotkin matrices and calculate the error metric for the MGS method and the Householder method for comparison:***"
   ]
  },
  {
   "cell_type": "code",
   "execution_count": 14,
   "metadata": {
    "collapsed": false
   },
   "outputs": [],
   "source": [
    "emgsr = []\n",
    "ehouse = []\n",
    "\n",
    "for n in xrange(2,13):\n",
    "    L = lotkin(n)\n",
    "    mgsqr = mgs(L)\n",
    "    houseqr = thin_house(L)\n",
    "    Qm = mgsqr['Q']\n",
    "    Qh = houseqr['Q']\n",
    "    emgsr.append(err(Qm))\n",
    "    ehouse.append(err(Qh))\n",
    "    \n",
    "err_dict = {'mgs_error':emgsr, 'house_error':ehouse}\n",
    "\n",
    "error_comp = DataFrame.from_dict(err_dict)"
   ]
  },
  {
   "cell_type": "markdown",
   "metadata": {},
   "source": [
    "***Side by side error comparison:***\n",
    "\n",
    "The comparison shows that the Householder factorization is more stable, incurring deviations of $Q$ from an orthogonal matrix that remains stable near zero, with order of magnitude of around $10^{-15}$. The MGS method, on the other hand, incurs deviations in $Q$ that increase in magnitude from order $10^{-15}$ to $10^{-1}$, as the dimension $n$ increases ."
   ]
  },
  {
   "cell_type": "code",
   "execution_count": 15,
   "metadata": {
    "collapsed": false
   },
   "outputs": [
    {
     "data": {
      "text/html": [
       "<div>\n",
       "<table border=\"1\" class=\"dataframe\">\n",
       "  <thead>\n",
       "    <tr style=\"text-align: right;\">\n",
       "      <th></th>\n",
       "      <th>house_error</th>\n",
       "      <th>mgs_error</th>\n",
       "    </tr>\n",
       "  </thead>\n",
       "  <tbody>\n",
       "    <tr>\n",
       "      <th>0</th>\n",
       "      <td>2.603704e-16</td>\n",
       "      <td>2.134113e-15</td>\n",
       "    </tr>\n",
       "    <tr>\n",
       "      <th>1</th>\n",
       "      <td>6.980403e-16</td>\n",
       "      <td>1.090199e-14</td>\n",
       "    </tr>\n",
       "    <tr>\n",
       "      <th>2</th>\n",
       "      <td>9.807188e-16</td>\n",
       "      <td>3.416413e-13</td>\n",
       "    </tr>\n",
       "    <tr>\n",
       "      <th>3</th>\n",
       "      <td>1.104571e-15</td>\n",
       "      <td>9.820108e-11</td>\n",
       "    </tr>\n",
       "    <tr>\n",
       "      <th>4</th>\n",
       "      <td>1.259796e-15</td>\n",
       "      <td>7.496646e-10</td>\n",
       "    </tr>\n",
       "    <tr>\n",
       "      <th>5</th>\n",
       "      <td>1.728039e-15</td>\n",
       "      <td>1.176913e-08</td>\n",
       "    </tr>\n",
       "    <tr>\n",
       "      <th>6</th>\n",
       "      <td>2.470600e-15</td>\n",
       "      <td>1.139656e-07</td>\n",
       "    </tr>\n",
       "    <tr>\n",
       "      <th>7</th>\n",
       "      <td>1.953329e-15</td>\n",
       "      <td>1.942440e-05</td>\n",
       "    </tr>\n",
       "    <tr>\n",
       "      <th>8</th>\n",
       "      <td>1.845191e-15</td>\n",
       "      <td>1.555496e-03</td>\n",
       "    </tr>\n",
       "    <tr>\n",
       "      <th>9</th>\n",
       "      <td>2.291950e-15</td>\n",
       "      <td>3.767891e-02</td>\n",
       "    </tr>\n",
       "    <tr>\n",
       "      <th>10</th>\n",
       "      <td>1.760845e-15</td>\n",
       "      <td>1.999618e-01</td>\n",
       "    </tr>\n",
       "  </tbody>\n",
       "</table>\n",
       "</div>"
      ],
      "text/plain": [
       "     house_error     mgs_error\n",
       "0   2.603704e-16  2.134113e-15\n",
       "1   6.980403e-16  1.090199e-14\n",
       "2   9.807188e-16  3.416413e-13\n",
       "3   1.104571e-15  9.820108e-11\n",
       "4   1.259796e-15  7.496646e-10\n",
       "5   1.728039e-15  1.176913e-08\n",
       "6   2.470600e-15  1.139656e-07\n",
       "7   1.953329e-15  1.942440e-05\n",
       "8   1.845191e-15  1.555496e-03\n",
       "9   2.291950e-15  3.767891e-02\n",
       "10  1.760845e-15  1.999618e-01"
      ]
     },
     "execution_count": 15,
     "metadata": {},
     "output_type": "execute_result"
    }
   ],
   "source": [
    "error_comp"
   ]
  },
  {
   "cell_type": "markdown",
   "metadata": {},
   "source": [
    "### Part d)\n",
    "\n",
    "***Condition Number: create a function to compute $\\log\\kappa_F\\left(A\\right)$.***"
   ]
  },
  {
   "cell_type": "code",
   "execution_count": 16,
   "metadata": {
    "collapsed": true
   },
   "outputs": [],
   "source": [
    "def lcn(A):\n",
    "    kf = numpy.log(norm(A, ord='fro') * norm(numpy.linalg.inv(A), ord='fro'))\n",
    "    return kf"
   ]
  },
  {
   "cell_type": "markdown",
   "metadata": {},
   "source": [
    "***Compute $\\log\\kappa_F\\left(L_n\\right)$ for the Lotkin matrices $L_n$, $n = 2,3,...,12$ and validate the results:***"
   ]
  },
  {
   "cell_type": "code",
   "execution_count": 17,
   "metadata": {
    "collapsed": false
   },
   "outputs": [
    {
     "name": "stdout",
     "output_type": "stream",
     "text": [
      "log kf(L2) 2.65089178726\n",
      "log kf(L3) 6.18487043876\n",
      "log kf(L4) 9.7494507469\n",
      "log kf(L5) 13.2988097667\n",
      "log kf(L6) 16.8386780397\n",
      "log kf(L7) 20.3732044643\n",
      "log kf(L8) 23.9045889889\n",
      "log kf(L9) 27.4340284785\n",
      "log kf(L10) 30.9623176723\n",
      "log kf(L11) 34.4930154898\n",
      "log kf(L12) 38.0359737665\n"
     ]
    }
   ],
   "source": [
    "lkf_vals = numpy.array([])\n",
    "for n in xrange(2,13):\n",
    "    L = lotkin(n)\n",
    "    lkf = lcn(L)\n",
    "    lkf_vals = numpy.append(lkf_vals,lkf)\n",
    "    print 'log kf(L{}) {}'.format(n,lkf)"
   ]
  },
  {
   "cell_type": "markdown",
   "metadata": {},
   "source": [
    "***Calculate $\\log e_n$ for both, the MGS and the Householder algorithms:***"
   ]
  },
  {
   "cell_type": "code",
   "execution_count": 18,
   "metadata": {
    "collapsed": false
   },
   "outputs": [],
   "source": [
    "mgsy = numpy.log(err_dict['mgs_error'])\n",
    "\n",
    "housey = numpy.log(err_dict['house_error'])"
   ]
  },
  {
   "cell_type": "markdown",
   "metadata": {},
   "source": [
    "***Plot $\\log \\kappa_F\\left(L_n\\right)$ vs $\\log e_n$:***"
   ]
  },
  {
   "cell_type": "code",
   "execution_count": 19,
   "metadata": {
    "collapsed": false
   },
   "outputs": [
    {
     "data": {
      "image/png": "[encoded data removed]",
      "text/plain": [
       "<matplotlib.figure.Figure at 0x7fb5e35270d0>"
      ]
     },
     "metadata": {},
     "output_type": "display_data"
    }
   ],
   "source": [
    "plt.figure(figsize = (8,6))\n",
    "mgs_plot = plt.plot(lkf_vals,mgsy, label ='MGS')\n",
    "house_plot = plt.plot(lkf_vals,housey, label='Householder')\n",
    "plt.title('log-deviation Scaling')\n",
    "plt.xlabel('$\\log (\\kappa_F)$', fontsize=16)\n",
    "plt.ylabel('$\\log (e_n)$', fontsize=16)\n",
    "plt.legend(loc=(0.05,0.795))\n",
    "plt.show()"
   ]
  },
  {
   "cell_type": "markdown",
   "metadata": {},
   "source": [
    "The above plot shows the marked contrast in how $\\log e_n$ scales with respect to $\\log \\kappa_F\\left(L_n\\right)$ for each algorithm. For MGS, represented by the blue curve, $\\log e_n$ increases much faster with respect to $\\log \\kappa_F\\left(L_n\\right)$ than does Householder's $\\log e_n$, represented by the green curve. Thus, it seems evident that the Householder algorithm is more stable than MGS."
   ]
  },
  {
   "cell_type": "markdown",
   "metadata": {},
   "source": [
    "***Slope estimation by calculating the average rate of change:*** \n",
    "\n",
    "$$\\frac{\\log e_{12} - \\log e_1}{\\log \\kappa_F\\left(L_{12}\\right) - \\log \\kappa_F\\left(L_1\\right)}$$"
   ]
  },
  {
   "cell_type": "code",
   "execution_count": 20,
   "metadata": {
    "collapsed": false
   },
   "outputs": [
    {
     "name": "stdout",
     "output_type": "stream",
     "text": [
      "\n",
      "\n",
      "*************************************************\n",
      "* MGS's slope estimate:         0.909171170397  *\n",
      "* Householder's slope estimate: 0.0540183619009 *\n",
      "*************************************************\n"
     ]
    }
   ],
   "source": [
    "s1 = (mgsy[-1] - mgsy[0])/(lkf_vals[-1] - lkf_vals[0])\n",
    "s2 = (housey[-1] - housey[0])/(lkf_vals[-1] - lkf_vals[0])\n",
    "print '\\n'\n",
    "print '*************************************************'\n",
    "print '* MGS\\'s slope estimate:         {}  *'.format(s1)\n",
    "print '* Householder\\'s slope estimate: {} *'.format(s2)\n",
    "print '*************************************************'"
   ]
  },
  {
   "cell_type": "markdown",
   "metadata": {
    "collapsed": false
   },
   "source": [
    "This indicates that the MGS's $\\log e_n$ scales approximately linearly with respect to $\\log \\kappa_F\\left(L_n\\right)$, whereas in the case of Householder's, the scaling of $\\log e_n$ with respect to $\\log \\kappa_F\\left(L_n\\right)$ is much, much slower with an average rate of chage of approximately $0.05$."
   ]
  },
  {
   "cell_type": "markdown",
   "metadata": {},
   "source": [
    "## Problem 2"
   ]
  },
  {
   "cell_type": "markdown",
   "metadata": {
    "collapsed": false
   },
   "source": [
    "1. If $x$ and $y$ are column vectors with $m$ components, $x^T y$, by definition, costs $m$ multiplications and $m-1$ additions of the resulting multiplications, i.e. $x_1 y_1 + x_2 y_2 + ... + x_m y_m$, for a total of $2m-1$ flops.\n",
    "\n",
    "2. If $x$ and $y$ are column vectors with $m$ components, $x-y$ costs $m$ subtractions, i.e $\\left(x_1-y_1, x_2-y_2,...,x_m-y_m\\right)^T$.\n",
    "\n",
    "3. If $a$ is a scalar and $x$ a colum vector with $m$ components, $ax$ costs $m$ multiplications, i.e. $\\left(ax_1,ax_2,...,ax_m\\right)^T$.\n",
    "\n",
    "4. If $A$ is a $m\\times n$ matrix, denote $a_i$ the $ith$ row of $A$ with $n$ components. Additionally, let $x$ be a column vector with $n$ components. The operation $Ax$ is the same as calculating $a^T_i x$ times the number of rows ($m$) in $A$, which results in a vector $b$ with $m$ components. Hence the operations produces $m\\left(2n-1\\right) = 2mn-m$ flops.\n",
    "\n",
    "5. For the operation $x-2\\left(x^T v\\right)v$, we can break it down as follows:\n",
    "    \n",
    "    * $x^T v$ costs $2m-1$ flops.\n",
    "    \n",
    "    * $2\\left(x^T v\\right)$ is a scalar times a scalar and costs 1 flop.\n",
    "    \n",
    "    * $2\\left(x^T v\\right)v$ is a scalar times a vector and costs $m$ flops.\n",
    "    \n",
    "    * $x - 2\\left(x^T v\\right)v$ is a vector minus a vector and costs $m$ flops.\n",
    "    \n",
    "   Hence the whole operation costs $2m-1 + 1 + m + m = 4m$ flops."
   ]
  },
  {
   "cell_type": "markdown",
   "metadata": {},
   "source": [
    "## Problem 3"
   ]
  },
  {
   "cell_type": "markdown",
   "metadata": {},
   "source": [
    "***Create a function to generate the required matrix:***"
   ]
  },
  {
   "cell_type": "code",
   "execution_count": 21,
   "metadata": {
    "collapsed": true
   },
   "outputs": [],
   "source": [
    "def xmatrix(n):\n",
    "    X = numpy.identity(n)\n",
    "    for i in xrange(n):\n",
    "        for j in xrange(n):\n",
    "            if i == j:\n",
    "                X[n-1-i,j] = 1\n",
    "            if (i == j) and (i in xrange(n-1)):\n",
    "                X[i,j+1] = 1\n",
    "    return X"
   ]
  },
  {
   "cell_type": "code",
   "execution_count": 22,
   "metadata": {
    "collapsed": false
   },
   "outputs": [
    {
     "data": {
      "text/plain": [
       "array([[ 1.,  1.,  0.,  0.,  0.,  0.,  0.,  0.,  0.,  1.],\n",
       "       [ 0.,  1.,  1.,  0.,  0.,  0.,  0.,  0.,  1.,  0.],\n",
       "       [ 0.,  0.,  1.,  1.,  0.,  0.,  0.,  1.,  0.,  0.],\n",
       "       [ 0.,  0.,  0.,  1.,  1.,  0.,  1.,  0.,  0.,  0.],\n",
       "       [ 0.,  0.,  0.,  0.,  1.,  1.,  0.,  0.,  0.,  0.],\n",
       "       [ 0.,  0.,  0.,  0.,  1.,  1.,  1.,  0.,  0.,  0.],\n",
       "       [ 0.,  0.,  0.,  1.,  0.,  0.,  1.,  1.,  0.,  0.],\n",
       "       [ 0.,  0.,  1.,  0.,  0.,  0.,  0.,  1.,  1.,  0.],\n",
       "       [ 0.,  1.,  0.,  0.,  0.,  0.,  0.,  0.,  1.,  1.],\n",
       "       [ 1.,  0.,  0.,  0.,  0.,  0.,  0.,  0.,  0.,  1.]])"
      ]
     },
     "execution_count": 22,
     "metadata": {},
     "output_type": "execute_result"
    }
   ],
   "source": [
    "S = xmatrix(10)\n",
    "S"
   ]
  },
  {
   "cell_type": "markdown",
   "metadata": {},
   "source": [
    "The function below implements the Householder algorithm and shows each iterate $A_k$. The pattern observed is as follows:\n",
    "\n",
    "* At $k=1$ one new non-zero is introduced at $a_{10,2}$\n",
    "* At $k=2$ two new non-zeroes are introduced at $a_{9:10,3}$, one at $a_{10,9}$,and one at $a_{10,10}$\n",
    "* At $k=3$ three new non-zeroes are introduced at $a_{8:10,4}$, two at $a_{9:10,8}$, and one at $a_{8,10}$\n",
    "* At $k=4$ four new at $a_{7:10,5}$, three at $a_{8:10,7}$, and two at $a_{7,9:10}$\n",
    "* At $k=5$ four new at $a_{7:10,6}$ and three at $a_{8:10}$\n",
    "\n",
    "After 5 iterations all entries are replaced with non-zeroes in the lower, right $(10 − k) × (10 − k)$ block of $A_{k+1}$"
   ]
  },
  {
   "cell_type": "code",
   "execution_count": 23,
   "metadata": {
    "collapsed": false
   },
   "outputs": [
    {
     "name": "stdout",
     "output_type": "stream",
     "text": [
      "matrix block (9, 9): \n",
      "\n",
      "          0    1    2    3    4    5    6    7             8\n",
      "0  1.000000  1.0  0.0  0.0  0.0  0.0  0.0  1.0  0.000000e+00\n",
      "1  0.000000  1.0  1.0  0.0  0.0  0.0  1.0  0.0  0.000000e+00\n",
      "2  0.000000  0.0  1.0  1.0  0.0  1.0  0.0  0.0  0.000000e+00\n",
      "3  0.000000  0.0  0.0  1.0  1.0  0.0  0.0  0.0  0.000000e+00\n",
      "4  0.000000  0.0  0.0  1.0  1.0  1.0  0.0  0.0  0.000000e+00\n",
      "5  0.000000  0.0  1.0  0.0  0.0  1.0  1.0  0.0  0.000000e+00\n",
      "6  0.000000  1.0  0.0  0.0  0.0  0.0  1.0  1.0  0.000000e+00\n",
      "7  1.000000  0.0  0.0  0.0  0.0  0.0  0.0  1.0  1.000000e+00\n",
      "8 -0.707107  0.0  0.0  0.0  0.0  0.0  0.0  0.0  1.110223e-16 \n",
      "\n",
      "matrix block (8, 8): \n",
      "\n",
      "          0    1    2    3    4    5         6         7\n",
      "0  1.000000  1.0  0.0  0.0  0.0  1.0  0.000000  0.000000\n",
      "1  0.000000  1.0  1.0  0.0  1.0  0.0  0.000000  0.000000\n",
      "2  0.000000  0.0  1.0  1.0  0.0  0.0  0.000000  0.000000\n",
      "3  0.000000  0.0  1.0  1.0  1.0  0.0  0.000000  0.000000\n",
      "4  0.000000  1.0  0.0  0.0  1.0  1.0  0.000000  0.000000\n",
      "5  1.000000  0.0  0.0  0.0  0.0  1.0  1.000000  0.000000\n",
      "6 -0.632456  0.0  0.0  0.0  0.0  0.0  0.122515  0.754970\n",
      "7  0.447214  0.0  0.0  0.0  0.0  0.0  0.620476  0.173262 \n",
      "\n",
      "matrix block (7, 7): \n",
      "\n",
      "          0    1    2    3         4         5         6\n",
      "0  1.000000  1.0  0.0  1.0  0.000000  0.000000  0.000000\n",
      "1  0.000000  1.0  1.0  0.0  0.000000  0.000000  0.000000\n",
      "2  0.000000  1.0  1.0  1.0  0.000000  0.000000  0.000000\n",
      "3  1.000000  0.0  0.0  1.0  1.000000  0.000000  0.000000\n",
      "4 -0.620174  0.0  0.0  0.0  0.142435  0.715130  0.094957\n",
      "5  0.392232  0.0  0.0  0.0  0.542372  0.302682  0.694915\n",
      "6 -0.277350  0.0  0.0  0.0 -0.383515  0.493078  0.215728 \n",
      "\n",
      "matrix block (6, 6): \n",
      "\n",
      "          0    1         2         3         4         5\n",
      "0  1.000000  1.0  0.000000  0.000000  0.000000  0.000000\n",
      "1  1.000000  1.0  1.000000  0.000000  0.000000  0.000000\n",
      "2 -0.618347  0.0  0.145392  0.709217  0.109044 -0.036348\n",
      "3  0.383482  0.0  0.530006  0.322771  0.647504  0.117499\n",
      "4 -0.242536  0.0 -0.335205  0.428317  0.345453  0.680658\n",
      "5  0.171499  0.0  0.237026 -0.302866  0.462835  0.225809 \n",
      "\n",
      "matrix block (5, 5): \n",
      "\n",
      "          0         1         2         3         4\n",
      "0  0.145824  0.708352  0.111104 -0.041664  0.013888\n",
      "1  0.528177  0.325731  0.640516  0.134807 -0.044936\n",
      "2 -0.327561  0.418164  0.365377  0.631527  0.122824\n",
      "3  0.207168 -0.264470  0.401371  0.355558  0.677289\n",
      "4 -0.146490  0.187008 -0.283812  0.455689  0.228191 \n",
      "\n",
      "matrix block (4, 4): \n",
      "\n",
      "          0         1         2         3\n",
      "0 -0.175396  0.238095  0.285714 -0.095238\n",
      "1  0.728950  0.614948  0.537938  0.154021\n",
      "2 -0.461028  0.243528  0.414749  0.657559\n",
      "3  0.325996 -0.172200  0.413835  0.242142 \n",
      "\n",
      "matrix block (3, 3): \n",
      "\n",
      "          0         1         2\n",
      "0  0.604755  0.525705  0.158098\n",
      "1  0.249975  0.422485  0.654980\n",
      "2 -0.176759  0.408365  0.243966 \n",
      "\n",
      "matrix block (2, 2): \n",
      "\n",
      "          0         1\n",
      "0  0.219001  0.561998\n",
      "1  0.552250  0.309714 \n",
      "\n",
      "matrix block (1, 1): \n",
      "\n",
      "          0\n",
      "0 -0.408248 \n",
      "\n",
      "matrix block (0, 0): \n",
      "\n",
      "Empty DataFrame\n",
      "Columns: []\n",
      "Index: [] \n",
      "\n"
     ]
    }
   ],
   "source": [
    "q3 = thin_house(S, show_spill=1)"
   ]
  },
  {
   "cell_type": "code",
   "execution_count": null,
   "metadata": {
    "collapsed": true
   },
   "outputs": [],
   "source": []
  }
 ],
 "metadata": {
  "kernelspec": {
   "display_name": "Python 2",
   "language": "python",
   "name": "python2"
  },
  "language_info": {
   "codemirror_mode": {
    "name": "ipython",
    "version": 2
   },
   "file_extension": ".py",
   "mimetype": "text/x-python",
   "name": "python",
   "nbconvert_exporter": "python",
   "pygments_lexer": "ipython2",
   "version": "2.7.12"
  }
 },
 "nbformat": 4,
 "nbformat_minor": 0
}
