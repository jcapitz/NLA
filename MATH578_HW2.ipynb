{
 "cells": [
  {
   "cell_type": "markdown",
   "metadata": {},
   "source": [
    "# MATH578 Homework 2\n",
    "**Juan Carlos Apitz**\n",
    "\n",
    "**ID 012523821**"
   ]
  },
  {
   "cell_type": "code",
   "execution_count": 1,
   "metadata": {
    "collapsed": false
   },
   "outputs": [],
   "source": [
    "from __future__ import division\n",
    "import numpy\n",
    "from numpy.linalg import norm\n",
    "from numpy.linalg import inv\n",
    "from pandas import DataFrame\n",
    "import matplotlib.pyplot as plt\n",
    "\n",
    "%matplotlib inline"
   ]
  },
  {
   "cell_type": "markdown",
   "metadata": {},
   "source": [
    "## Problem 1"
   ]
  },
  {
   "cell_type": "markdown",
   "metadata": {},
   "source": [
    "### Part a)"
   ]
  },
  {
   "cell_type": "markdown",
   "metadata": {},
   "source": [
    "***Define the Givens Routine:***"
   ]
  },
  {
   "cell_type": "code",
   "execution_count": 2,
   "metadata": {
    "collapsed": true
   },
   "outputs": [],
   "source": [
    "def givens(x):\n",
    "    a, b, eps = (x[0],x[1],2**-52)\n",
    "    if abs(a) < eps:\n",
    "        c, s = (1,0)\n",
    "    elif abs(b) > abs(a):\n",
    "        tau = -a/b; s = 1./numpy.sqrt(1+tau*tau); c = tau*s \n",
    "    else:\n",
    "        tau = -b/a; c = 1.0/numpy.sqrt(1+tau*tau); s = tau*c\n",
    "    return (c,s)"
   ]
  },
  {
   "cell_type": "markdown",
   "metadata": {
    "collapsed": true
   },
   "source": [
    "***Define the QR factorization function using Givens rotations:***\n",
    "\n",
    "If $A$ is tridiagonal, each sub-block containing columns with al least one non-zero entry is going to be the $2\\times3$ sublock $A_{k:k+1,k:k+2}$. Thus each Givens rotation will consist of the following operation:\n",
    "$$\n",
    "\\begin{bmatrix}\n",
    "c,-s\\\\\n",
    "s,\\ \\ c\n",
    "\\end{bmatrix}\n",
    "\\begin{bmatrix}\n",
    "x,x,0\\\\\n",
    "x,x,x\n",
    "\\end{bmatrix}\n",
    "$$"
   ]
  },
  {
   "cell_type": "code",
   "execution_count": 3,
   "metadata": {
    "collapsed": false
   },
   "outputs": [],
   "source": [
    "def givens_qr(A, show=0):\n",
    "    n = A.shape[0]                                      # initialize\n",
    "    R = A.copy()                                        #\n",
    "    V = numpy.zeros((n,2))                              #\n",
    "    Q = numpy.identity(n)                               #\n",
    "                                                        # loop to compute R                           \n",
    "    for k in xrange(n-1):                               #\n",
    "        sub = R.copy()[k:k+2,k:k+3]                     # this is the 2 by 3 block of non-zeros to operate on\n",
    "        x = sub[:,0]                                    #\n",
    "        c, s = givens(x)                                # compute components (c,s) of a Givens rotation\n",
    "        V[k,:] = [c,s]                                  # store (c,s) at each step to perform backward acc.\n",
    "        G = numpy.array([[c,-s],[s,c]])                 # form the Givens rotation\n",
    "        R[k:k+2,k:k+3] = numpy.dot(G,sub)               # apply the Givens rotation to form R\n",
    "                                                        # compute Q\n",
    "    Q = numpy.identity(n)                               #\n",
    "    for k in xrange(n-1,0,-1):                          #\n",
    "        c, s = (V[k-1,0],V[k-1,1])                      #\n",
    "        G = numpy.array([[c,-s],[s,c]])                 # form the Givens rotation\n",
    "        Q[:,k-1:k+1] = numpy.dot(Q[:,k-1:k+1],G)        # backward accumulation step\n",
    "                                                        # output\n",
    "    if show == 1:                                       #\n",
    "        print 'Q = \\n{}'.format(DataFrame(data=Q.T))    #\n",
    "        print '\\nR = \\n{}'.format(DataFrame(R))         #\n",
    "    return {'Q':Q.T,'R':R,'V':V}                        #"
   ]
  },
  {
   "cell_type": "markdown",
   "metadata": {},
   "source": [
    "*** Validate the function to calculate Givens QR using an arbitrary tridiagonal matrix:***"
   ]
  },
  {
   "cell_type": "code",
   "execution_count": 4,
   "metadata": {
    "collapsed": false
   },
   "outputs": [],
   "source": [
    "A = numpy.array([[2.,1,0,0,0,0],\n",
    "                 [1.,2,1,0,0,0],\n",
    "                 [0.,1,1,2,0,0],\n",
    "                 [0.,0,2,1,1,0],\n",
    "                 [0.,0,0,1,2,1],\n",
    "                 [0.,0,0,0,1,1]])"
   ]
  },
  {
   "cell_type": "markdown",
   "metadata": {},
   "source": [
    "***The resulting QR decomposition with Givens Rotations is:***"
   ]
  },
  {
   "cell_type": "code",
   "execution_count": 5,
   "metadata": {
    "collapsed": false
   },
   "outputs": [
    {
     "name": "stdout",
     "output_type": "stream",
     "text": [
      "Q = \n",
      "          0         1         2         3         4         5\n",
      "0  0.894427 -0.358569 -0.035400  0.218411 -0.129670  0.075218\n",
      "1  0.447214  0.717137  0.070799 -0.436823  0.259339 -0.150435\n",
      "2  0.000000  0.597614 -0.106199  0.655234 -0.389009  0.225653\n",
      "3  0.000000  0.000000 -0.991189 -0.109206  0.064835 -0.037609\n",
      "4  0.000000  0.000000  0.000000  0.565884  0.713183 -0.413698\n",
      "5  0.000000  0.000000  0.000000  0.000000  0.501765  0.865004\n",
      "\n",
      "R = \n",
      "          0             1         2             3             4         5\n",
      "0  2.236068  1.788854e+00  0.447214  0.000000e+00  0.000000e+00  0.000000\n",
      "1  0.000000  1.673320e+00  1.314751  1.195229e+00  0.000000e+00  0.000000\n",
      "2  0.000000 -1.110223e-16 -2.017778 -1.203587e+00 -9.911893e-01  0.000000\n",
      "3  0.000000  0.000000e+00  0.000000  1.767147e+00  1.022562e+00  0.565884\n",
      "4  0.000000  0.000000e+00  0.000000 -1.110223e-16  1.992965e+00  1.214948\n",
      "5  0.000000  0.000000e+00  0.000000  0.000000e+00 -1.110223e-16  0.451306\n"
     ]
    }
   ],
   "source": [
    "gqr = givens_qr(A,show=1)"
   ]
  },
  {
   "cell_type": "markdown",
   "metadata": {},
   "source": [
    "***The matrix $A$ is recovered by $QR=A$:***"
   ]
  },
  {
   "cell_type": "code",
   "execution_count": 6,
   "metadata": {
    "collapsed": false
   },
   "outputs": [
    {
     "data": {
      "text/html": [
       "<div>\n",
       "<table border=\"1\" class=\"dataframe\">\n",
       "  <thead>\n",
       "    <tr style=\"text-align: right;\">\n",
       "      <th></th>\n",
       "      <th>0</th>\n",
       "      <th>1</th>\n",
       "      <th>2</th>\n",
       "      <th>3</th>\n",
       "      <th>4</th>\n",
       "      <th>5</th>\n",
       "    </tr>\n",
       "  </thead>\n",
       "  <tbody>\n",
       "    <tr>\n",
       "      <th>0</th>\n",
       "      <td>2.0</td>\n",
       "      <td>1.000000e+00</td>\n",
       "      <td>-6.938894e-17</td>\n",
       "      <td>-4.111494e-17</td>\n",
       "      <td>-8.350847e-18</td>\n",
       "      <td>2.081668e-17</td>\n",
       "    </tr>\n",
       "    <tr>\n",
       "      <th>1</th>\n",
       "      <td>1.0</td>\n",
       "      <td>2.000000e+00</td>\n",
       "      <td>1.000000e+00</td>\n",
       "      <td>8.222987e-17</td>\n",
       "      <td>1.670169e-17</td>\n",
       "      <td>-4.163336e-17</td>\n",
       "    </tr>\n",
       "    <tr>\n",
       "      <th>2</th>\n",
       "      <td>0.0</td>\n",
       "      <td>1.000000e+00</td>\n",
       "      <td>1.000000e+00</td>\n",
       "      <td>2.000000e+00</td>\n",
       "      <td>-1.360748e-16</td>\n",
       "      <td>-2.775558e-17</td>\n",
       "    </tr>\n",
       "    <tr>\n",
       "      <th>3</th>\n",
       "      <td>0.0</td>\n",
       "      <td>1.100441e-16</td>\n",
       "      <td>2.000000e+00</td>\n",
       "      <td>1.000000e+00</td>\n",
       "      <td>1.000000e+00</td>\n",
       "      <td>-3.469447e-18</td>\n",
       "    </tr>\n",
       "    <tr>\n",
       "      <th>4</th>\n",
       "      <td>0.0</td>\n",
       "      <td>0.000000e+00</td>\n",
       "      <td>0.000000e+00</td>\n",
       "      <td>1.000000e+00</td>\n",
       "      <td>2.000000e+00</td>\n",
       "      <td>1.000000e+00</td>\n",
       "    </tr>\n",
       "    <tr>\n",
       "      <th>5</th>\n",
       "      <td>0.0</td>\n",
       "      <td>0.000000e+00</td>\n",
       "      <td>0.000000e+00</td>\n",
       "      <td>-5.570710e-17</td>\n",
       "      <td>1.000000e+00</td>\n",
       "      <td>1.000000e+00</td>\n",
       "    </tr>\n",
       "  </tbody>\n",
       "</table>\n",
       "</div>"
      ],
      "text/plain": [
       "     0             1             2             3             4             5\n",
       "0  2.0  1.000000e+00 -6.938894e-17 -4.111494e-17 -8.350847e-18  2.081668e-17\n",
       "1  1.0  2.000000e+00  1.000000e+00  8.222987e-17  1.670169e-17 -4.163336e-17\n",
       "2  0.0  1.000000e+00  1.000000e+00  2.000000e+00 -1.360748e-16 -2.775558e-17\n",
       "3  0.0  1.100441e-16  2.000000e+00  1.000000e+00  1.000000e+00 -3.469447e-18\n",
       "4  0.0  0.000000e+00  0.000000e+00  1.000000e+00  2.000000e+00  1.000000e+00\n",
       "5  0.0  0.000000e+00  0.000000e+00 -5.570710e-17  1.000000e+00  1.000000e+00"
      ]
     },
     "execution_count": 6,
     "metadata": {},
     "output_type": "execute_result"
    }
   ],
   "source": [
    "DataFrame(data=numpy.dot(gqr['Q'],gqr['R']))"
   ]
  },
  {
   "cell_type": "markdown",
   "metadata": {
    "collapsed": true
   },
   "source": [
    "### Part b)"
   ]
  },
  {
   "cell_type": "markdown",
   "metadata": {
    "collapsed": true
   },
   "source": [
    "The Givens QR decomposition iteration step has $n-1$ iterations if $A$ is $n \\times n$. There are two main computations inside the iteration step. First, the computation of the components $(c,s)$, which costs 6 flops. Second, applying the Givens rotation step:\n",
    "\n",
    "$$\n",
    "\\begin{bmatrix}\n",
    "c,-s\\\\\n",
    "s,\\ \\ c\n",
    "\\end{bmatrix}\n",
    "\\begin{bmatrix}\n",
    "x,x,0\\\\\n",
    "x,x,x\n",
    "\\end{bmatrix}\n",
    "$$\n",
    "which costs $(2)(3)(2)^2-(3)(2) = 18$ flops.\n",
    "\n",
    "Thus the QR decomposition of a tridiagonal matrix requires $(n-1)(6+18) = 24n-24$ flops. This illustrates the class discussion about the QR decomposition of a tridiagonal matrix having time complexity $\\mathcal{O}(n)$."
   ]
  },
  {
   "cell_type": "markdown",
   "metadata": {},
   "source": [
    "### Part c)"
   ]
  },
  {
   "cell_type": "markdown",
   "metadata": {
    "collapsed": true
   },
   "source": [
    "The validation results in part a) show that the resulting the non-zero structure of the upper triangular factor $R$ is non-zeros along the $0^{th},\\ 1^{st},$ and $2^{nd}$ superdiagonals and zeros everywhere else."
   ]
  },
  {
   "cell_type": "markdown",
   "metadata": {
    "collapsed": true
   },
   "source": [
    "## Problem 2"
   ]
  },
  {
   "cell_type": "markdown",
   "metadata": {},
   "source": [
    "### Part a)"
   ]
  },
  {
   "cell_type": "markdown",
   "metadata": {},
   "source": [
    "***Define the back-substitution function which solves $Rx = b$, with $R$ upper triangular:***"
   ]
  },
  {
   "cell_type": "code",
   "execution_count": 7,
   "metadata": {
    "collapsed": true
   },
   "outputs": [],
   "source": [
    "def backsub(R,b):\n",
    "    n = R.shape[0]\n",
    "    x = numpy.zeros(n)\n",
    "    for i in xrange(n-1,-1,-1):\n",
    "        x[i] = (b[i] - numpy.dot(R[i,i:],x[i:]))/R[i,i]\n",
    "    return x"
   ]
  },
  {
   "cell_type": "markdown",
   "metadata": {},
   "source": [
    "### Part b)"
   ]
  },
  {
   "cell_type": "markdown",
   "metadata": {},
   "source": [
    "*** Create a function to produce $A$, such that $A_{ii}=1$, $A_{i,i+1}=-2$ and $A_{i,j}=0$ otherwise:***"
   ]
  },
  {
   "cell_type": "code",
   "execution_count": 8,
   "metadata": {
    "collapsed": true
   },
   "outputs": [],
   "source": [
    "def pmatrix(n):\n",
    "    A = numpy.identity(n)\n",
    "    for i in xrange(n):\n",
    "        for j in xrange(n):\n",
    "            if (i == j) and (i in xrange(n-1)):\n",
    "                A[i,j+1] = -2\n",
    "    return A"
   ]
  },
  {
   "cell_type": "markdown",
   "metadata": {},
   "source": [
    "***Create a function to calculate $e_n$ using the functions above, $backsub()$ and $pmatrix()$:***"
   ]
  },
  {
   "cell_type": "code",
   "execution_count": 9,
   "metadata": {
    "collapsed": true
   },
   "outputs": [],
   "source": [
    "def relres(n):\n",
    "    A = pmatrix(n)\n",
    "    b=numpy.repeat(1+numpy.sqrt(6)*2**-52,n)\n",
    "    x = backsub(A,b)\n",
    "    en = norm(numpy.dot(A,x) - b)/norm(b)\n",
    "    return en"
   ]
  },
  {
   "cell_type": "markdown",
   "metadata": {},
   "source": [
    "***Calculate the relative residual $e_n$:***"
   ]
  },
  {
   "cell_type": "code",
   "execution_count": 10,
   "metadata": {
    "collapsed": false
   },
   "outputs": [],
   "source": [
    "ens = []\n",
    "for n in range(5,26):\n",
    "    ens.append(relres(n))"
   ]
  },
  {
   "cell_type": "code",
   "execution_count": 11,
   "metadata": {
    "collapsed": false
   },
   "outputs": [
    {
     "data": {
      "text/html": [
       "<div>\n",
       "<table border=\"1\" class=\"dataframe\">\n",
       "  <thead>\n",
       "    <tr style=\"text-align: right;\">\n",
       "      <th></th>\n",
       "      <th>$e_n$</th>\n",
       "    </tr>\n",
       "  </thead>\n",
       "  <tbody>\n",
       "    <tr>\n",
       "      <th>5</th>\n",
       "      <td>3.439900e-16</td>\n",
       "    </tr>\n",
       "    <tr>\n",
       "      <th>6</th>\n",
       "      <td>3.625973e-16</td>\n",
       "    </tr>\n",
       "    <tr>\n",
       "      <th>7</th>\n",
       "      <td>3.753239e-16</td>\n",
       "    </tr>\n",
       "    <tr>\n",
       "      <th>8</th>\n",
       "      <td>3.845925e-16</td>\n",
       "    </tr>\n",
       "    <tr>\n",
       "      <th>9</th>\n",
       "      <td>3.916499e-16</td>\n",
       "    </tr>\n",
       "    <tr>\n",
       "      <th>10</th>\n",
       "      <td>3.972055e-16</td>\n",
       "    </tr>\n",
       "    <tr>\n",
       "      <th>11</th>\n",
       "      <td>4.016938e-16</td>\n",
       "    </tr>\n",
       "    <tr>\n",
       "      <th>12</th>\n",
       "      <td>4.053961e-16</td>\n",
       "    </tr>\n",
       "    <tr>\n",
       "      <th>13</th>\n",
       "      <td>4.085027e-16</td>\n",
       "    </tr>\n",
       "    <tr>\n",
       "      <th>14</th>\n",
       "      <td>4.111467e-16</td>\n",
       "    </tr>\n",
       "    <tr>\n",
       "      <th>15</th>\n",
       "      <td>4.134246e-16</td>\n",
       "    </tr>\n",
       "    <tr>\n",
       "      <th>16</th>\n",
       "      <td>4.154074e-16</td>\n",
       "    </tr>\n",
       "    <tr>\n",
       "      <th>17</th>\n",
       "      <td>4.171492e-16</td>\n",
       "    </tr>\n",
       "    <tr>\n",
       "      <th>18</th>\n",
       "      <td>4.186913e-16</td>\n",
       "    </tr>\n",
       "    <tr>\n",
       "      <th>19</th>\n",
       "      <td>4.200663e-16</td>\n",
       "    </tr>\n",
       "    <tr>\n",
       "      <th>20</th>\n",
       "      <td>4.213000e-16</td>\n",
       "    </tr>\n",
       "    <tr>\n",
       "      <th>21</th>\n",
       "      <td>4.224131e-16</td>\n",
       "    </tr>\n",
       "    <tr>\n",
       "      <th>22</th>\n",
       "      <td>4.234224e-16</td>\n",
       "    </tr>\n",
       "    <tr>\n",
       "      <th>23</th>\n",
       "      <td>4.243419e-16</td>\n",
       "    </tr>\n",
       "    <tr>\n",
       "      <th>24</th>\n",
       "      <td>4.251830e-16</td>\n",
       "    </tr>\n",
       "    <tr>\n",
       "      <th>25</th>\n",
       "      <td>4.259554e-16</td>\n",
       "    </tr>\n",
       "  </tbody>\n",
       "</table>\n",
       "</div>"
      ],
      "text/plain": [
       "           $e_n$\n",
       "5   3.439900e-16\n",
       "6   3.625973e-16\n",
       "7   3.753239e-16\n",
       "8   3.845925e-16\n",
       "9   3.916499e-16\n",
       "10  3.972055e-16\n",
       "11  4.016938e-16\n",
       "12  4.053961e-16\n",
       "13  4.085027e-16\n",
       "14  4.111467e-16\n",
       "15  4.134246e-16\n",
       "16  4.154074e-16\n",
       "17  4.171492e-16\n",
       "18  4.186913e-16\n",
       "19  4.200663e-16\n",
       "20  4.213000e-16\n",
       "21  4.224131e-16\n",
       "22  4.234224e-16\n",
       "23  4.243419e-16\n",
       "24  4.251830e-16\n",
       "25  4.259554e-16"
      ]
     },
     "execution_count": 11,
     "metadata": {},
     "output_type": "execute_result"
    }
   ],
   "source": [
    "rr = DataFrame.from_dict({'$e_n$':ens})\n",
    "rr.index = range(5,26)\n",
    "rr"
   ]
  },
  {
   "cell_type": "markdown",
   "metadata": {},
   "source": [
    "### Part c)"
   ]
  },
  {
   "cell_type": "markdown",
   "metadata": {},
   "source": [
    "***For part c) I import the Thin QR Householder function from Homework 1 to perform the factorization.***"
   ]
  },
  {
   "cell_type": "code",
   "execution_count": 12,
   "metadata": {
    "collapsed": false
   },
   "outputs": [],
   "source": [
    "from math578 import thin_house as qr"
   ]
  },
  {
   "cell_type": "markdown",
   "metadata": {},
   "source": [
    "***Create a function to calculate $f_n$ using $backsub()$ from above, and $thin\\_house()$ [ now aliased as $qr()$ ] from homework 1:***"
   ]
  },
  {
   "cell_type": "code",
   "execution_count": 13,
   "metadata": {
    "collapsed": true
   },
   "outputs": [],
   "source": [
    "def relref(n, epsilon):\n",
    "    A = pmatrix(n)\n",
    "    b=numpy.repeat(1+epsilon,n)\n",
    "    N = numpy.dot(A.T,A)\n",
    "    c = numpy.dot(A.T,b)\n",
    "    qrn = qr(N)\n",
    "    Q = qrn['Q']; R = qrn['R']\n",
    "    x = backsub(R,numpy.dot(Q.T,c))\n",
    "    fn = norm(numpy.dot(A,x) - b)/norm(b)\n",
    "    return fn\n",
    "    \n",
    "    "
   ]
  },
  {
   "cell_type": "markdown",
   "metadata": {},
   "source": [
    "***Calculate the relative residual $f_n$ using $relref()$ from above:***"
   ]
  },
  {
   "cell_type": "code",
   "execution_count": 14,
   "metadata": {
    "collapsed": false
   },
   "outputs": [],
   "source": [
    "epsilon = numpy.sqrt(6)*2**-52\n",
    "\n",
    "fns = []\n",
    "for n in range(5,26):\n",
    "    fns.append(relref(n,epsilon))"
   ]
  },
  {
   "cell_type": "code",
   "execution_count": 15,
   "metadata": {
    "collapsed": false
   },
   "outputs": [
    {
     "data": {
      "text/html": [
       "<div>\n",
       "<table border=\"1\" class=\"dataframe\">\n",
       "  <thead>\n",
       "    <tr style=\"text-align: right;\">\n",
       "      <th></th>\n",
       "      <th>$f_n$</th>\n",
       "    </tr>\n",
       "  </thead>\n",
       "  <tbody>\n",
       "    <tr>\n",
       "      <th>5</th>\n",
       "      <td>1.098895e-13</td>\n",
       "    </tr>\n",
       "    <tr>\n",
       "      <th>6</th>\n",
       "      <td>4.425078e-13</td>\n",
       "    </tr>\n",
       "    <tr>\n",
       "      <th>7</th>\n",
       "      <td>1.682721e-12</td>\n",
       "    </tr>\n",
       "    <tr>\n",
       "      <th>8</th>\n",
       "      <td>6.403975e-12</td>\n",
       "    </tr>\n",
       "    <tr>\n",
       "      <th>9</th>\n",
       "      <td>2.451827e-11</td>\n",
       "    </tr>\n",
       "    <tr>\n",
       "      <th>10</th>\n",
       "      <td>9.265732e-11</td>\n",
       "    </tr>\n",
       "    <tr>\n",
       "      <th>11</th>\n",
       "      <td>3.533362e-10</td>\n",
       "    </tr>\n",
       "    <tr>\n",
       "      <th>12</th>\n",
       "      <td>1.353175e-09</td>\n",
       "    </tr>\n",
       "    <tr>\n",
       "      <th>13</th>\n",
       "      <td>5.201194e-09</td>\n",
       "    </tr>\n",
       "    <tr>\n",
       "      <th>14</th>\n",
       "      <td>2.004701e-08</td>\n",
       "    </tr>\n",
       "    <tr>\n",
       "      <th>15</th>\n",
       "      <td>7.746588e-08</td>\n",
       "    </tr>\n",
       "    <tr>\n",
       "      <th>16</th>\n",
       "      <td>3.000251e-07</td>\n",
       "    </tr>\n",
       "    <tr>\n",
       "      <th>17</th>\n",
       "      <td>1.164214e-06</td>\n",
       "    </tr>\n",
       "    <tr>\n",
       "      <th>18</th>\n",
       "      <td>4.525664e-06</td>\n",
       "    </tr>\n",
       "    <tr>\n",
       "      <th>19</th>\n",
       "      <td>1.761912e-05</td>\n",
       "    </tr>\n",
       "    <tr>\n",
       "      <th>20</th>\n",
       "      <td>6.868271e-05</td>\n",
       "    </tr>\n",
       "    <tr>\n",
       "      <th>21</th>\n",
       "      <td>2.679664e-04</td>\n",
       "    </tr>\n",
       "    <tr>\n",
       "      <th>22</th>\n",
       "      <td>1.044998e-03</td>\n",
       "    </tr>\n",
       "    <tr>\n",
       "      <th>23</th>\n",
       "      <td>4.053694e-03</td>\n",
       "    </tr>\n",
       "    <tr>\n",
       "      <th>24</th>\n",
       "      <td>1.535628e-02</td>\n",
       "    </tr>\n",
       "    <tr>\n",
       "      <th>25</th>\n",
       "      <td>5.324599e-02</td>\n",
       "    </tr>\n",
       "  </tbody>\n",
       "</table>\n",
       "</div>"
      ],
      "text/plain": [
       "           $f_n$\n",
       "5   1.098895e-13\n",
       "6   4.425078e-13\n",
       "7   1.682721e-12\n",
       "8   6.403975e-12\n",
       "9   2.451827e-11\n",
       "10  9.265732e-11\n",
       "11  3.533362e-10\n",
       "12  1.353175e-09\n",
       "13  5.201194e-09\n",
       "14  2.004701e-08\n",
       "15  7.746588e-08\n",
       "16  3.000251e-07\n",
       "17  1.164214e-06\n",
       "18  4.525664e-06\n",
       "19  1.761912e-05\n",
       "20  6.868271e-05\n",
       "21  2.679664e-04\n",
       "22  1.044998e-03\n",
       "23  4.053694e-03\n",
       "24  1.535628e-02\n",
       "25  5.324599e-02"
      ]
     },
     "execution_count": 15,
     "metadata": {},
     "output_type": "execute_result"
    }
   ],
   "source": [
    "rf = DataFrame.from_dict({'$f_n$':fns})\n",
    "rf.index = range(5,26)\n",
    "rf"
   ]
  },
  {
   "cell_type": "markdown",
   "metadata": {},
   "source": [
    "### Part d)"
   ]
  },
  {
   "cell_type": "markdown",
   "metadata": {},
   "source": [
    "***Calculate a vector with all values of $\\log\\left(f_n \\bigr / e_n\\right)$ for all $n$ in $[5,6,...25]$:***"
   ]
  },
  {
   "cell_type": "code",
   "execution_count": 16,
   "metadata": {
    "collapsed": true
   },
   "outputs": [],
   "source": [
    "log_er = [numpy.log(fns[n]/ens[n]) for n in xrange(len(fns))]\n",
    "nrange = range(5,26)"
   ]
  },
  {
   "cell_type": "code",
   "execution_count": 17,
   "metadata": {
    "collapsed": false
   },
   "outputs": [
    {
     "data": {
      "text/html": [
       "<div>\n",
       "<table border=\"1\" class=\"dataframe\">\n",
       "  <thead>\n",
       "    <tr style=\"text-align: right;\">\n",
       "      <th></th>\n",
       "      <th>$f_n / e_n$</th>\n",
       "    </tr>\n",
       "  </thead>\n",
       "  <tbody>\n",
       "    <tr>\n",
       "      <th>5</th>\n",
       "      <td>5.766618</td>\n",
       "    </tr>\n",
       "    <tr>\n",
       "      <th>6</th>\n",
       "      <td>7.106921</td>\n",
       "    </tr>\n",
       "    <tr>\n",
       "      <th>7</th>\n",
       "      <td>8.408134</td>\n",
       "    </tr>\n",
       "    <tr>\n",
       "      <th>8</th>\n",
       "      <td>9.720245</td>\n",
       "    </tr>\n",
       "    <tr>\n",
       "      <th>9</th>\n",
       "      <td>11.044561</td>\n",
       "    </tr>\n",
       "    <tr>\n",
       "      <th>10</th>\n",
       "      <td>12.359965</td>\n",
       "    </tr>\n",
       "    <tr>\n",
       "      <th>11</th>\n",
       "      <td>13.687241</td>\n",
       "    </tr>\n",
       "    <tr>\n",
       "      <th>12</th>\n",
       "      <td>15.020855</td>\n",
       "    </tr>\n",
       "    <tr>\n",
       "      <th>13</th>\n",
       "      <td>16.359656</td>\n",
       "    </tr>\n",
       "    <tr>\n",
       "      <th>14</th>\n",
       "      <td>17.702396</td>\n",
       "    </tr>\n",
       "    <tr>\n",
       "      <th>15</th>\n",
       "      <td>19.048628</td>\n",
       "    </tr>\n",
       "    <tr>\n",
       "      <th>16</th>\n",
       "      <td>20.397872</td>\n",
       "    </tr>\n",
       "    <tr>\n",
       "      <th>17</th>\n",
       "      <td>21.749624</td>\n",
       "    </tr>\n",
       "    <tr>\n",
       "      <th>18</th>\n",
       "      <td>23.103652</td>\n",
       "    </tr>\n",
       "    <tr>\n",
       "      <th>19</th>\n",
       "      <td>24.459593</td>\n",
       "    </tr>\n",
       "    <tr>\n",
       "      <th>20</th>\n",
       "      <td>25.817173</td>\n",
       "    </tr>\n",
       "    <tr>\n",
       "      <th>21</th>\n",
       "      <td>27.175899</td>\n",
       "    </tr>\n",
       "    <tr>\n",
       "      <th>22</th>\n",
       "      <td>28.534421</td>\n",
       "    </tr>\n",
       "    <tr>\n",
       "      <th>23</th>\n",
       "      <td>29.887865</td>\n",
       "    </tr>\n",
       "    <tr>\n",
       "      <th>24</th>\n",
       "      <td>31.217781</td>\n",
       "    </tr>\n",
       "    <tr>\n",
       "      <th>25</th>\n",
       "      <td>32.459364</td>\n",
       "    </tr>\n",
       "  </tbody>\n",
       "</table>\n",
       "</div>"
      ],
      "text/plain": [
       "    $f_n / e_n$\n",
       "5      5.766618\n",
       "6      7.106921\n",
       "7      8.408134\n",
       "8      9.720245\n",
       "9     11.044561\n",
       "10    12.359965\n",
       "11    13.687241\n",
       "12    15.020855\n",
       "13    16.359656\n",
       "14    17.702396\n",
       "15    19.048628\n",
       "16    20.397872\n",
       "17    21.749624\n",
       "18    23.103652\n",
       "19    24.459593\n",
       "20    25.817173\n",
       "21    27.175899\n",
       "22    28.534421\n",
       "23    29.887865\n",
       "24    31.217781\n",
       "25    32.459364"
      ]
     },
     "execution_count": 17,
     "metadata": {},
     "output_type": "execute_result"
    }
   ],
   "source": [
    "lrfr = DataFrame.from_dict({'$f_n / e_n$':log_er})\n",
    "lrfr.index = range(5,26)\n",
    "lrfr"
   ]
  },
  {
   "cell_type": "markdown",
   "metadata": {},
   "source": [
    "***Create the plot $\\log\\left(f_n \\bigr / e_n\\right)$ vs $n$:***"
   ]
  },
  {
   "cell_type": "code",
   "execution_count": 18,
   "metadata": {
    "collapsed": false
   },
   "outputs": [
    {
     "data": {
      "image/png": "[encoded data removed]",
      "text/plain": [
       "<matplotlib.figure.Figure at 0x7ff88f6cf5d0>"
      ]
     },
     "metadata": {},
     "output_type": "display_data"
    }
   ],
   "source": [
    "plt.figure(figsize = (8,6))\n",
    "log_er_plot = plt.plot(nrange,log_er, label ='$\\log (f_n/e_n)$')\n",
    "plt.title('Relative Residuals Ratio')\n",
    "plt.xlabel('$n$', fontsize=16)\n",
    "plt.ylabel('$\\log (f_n/e_n)$', fontsize=16)\n",
    "plt.show()"
   ]
  },
  {
   "cell_type": "markdown",
   "metadata": {},
   "source": [
    "Based on the plot of $\\log\\left(f_n \\bigr / e_n\\right)$ vs $n$, we can say that the two variables are related linearly:\n",
    "$$\\log \\left(f_n \\big / e_n\\right) = m n + b$$\n",
    "thus:\n",
    "$$f_n \\big / e_n = e^{mn + b}$$\n",
    "and:\n",
    "$$f_n \\big / e_n \\propto e^{mn}$$\n",
    "Hence:\n",
    "$$C = e^m$$\n",
    "and:\n",
    "$$\\log\\left(C\\right) = m, \\quad \\text{the slope of  } \\log \\left(f_n \\big / e_n\\right) = m n + b$$\n",
    "\n",
    "This means that the ratio $\\log\\left(f_n \\bigr / e_n\\right)$ scales exponentially with respect to $n$."
   ]
  },
  {
   "cell_type": "markdown",
   "metadata": {},
   "source": [
    "***Estimate $\\log\\left(C\\right)$ with the average rate of change:***\n",
    "$$\\frac{\\log\\left(f_{25} \\bigr / e_{25}\\right) - \\log\\left(f_{5} \\bigr / e_{5}\\right)}{25 - 5}$$\n"
   ]
  },
  {
   "cell_type": "code",
   "execution_count": 19,
   "metadata": {
    "collapsed": false
   },
   "outputs": [
    {
     "name": "stdout",
     "output_type": "stream",
     "text": [
      "\n",
      "\n",
      "log(C) estimate: 1.33463732498\n",
      "\n",
      "\n",
      "C estimate: 3.79861803271\n"
     ]
    }
   ],
   "source": [
    "m = (log_er[-1] - log_er[0])/(nrange[-1] - nrange[0])\n",
    "print '\\n'\n",
    "print 'log(C) estimate: {}'.format(m)\n",
    "print '\\n'\n",
    "print 'C estimate: {}'.format(numpy.exp(m))"
   ]
  },
  {
   "cell_type": "markdown",
   "metadata": {},
   "source": [
    "This shows that $f_n \\big / e_n$ scales approximately at a rate of $e^{3.8n}$ or $\\approx e^{4n}$ "
   ]
  },
  {
   "cell_type": "markdown",
   "metadata": {
    "collapsed": true
   },
   "source": [
    "### Part e)"
   ]
  },
  {
   "cell_type": "markdown",
   "metadata": {
    "collapsed": true
   },
   "source": [
    "Using $\\left(A + \\delta A\\right) x = b$:\n",
    "\n",
    "$$\\|Ax - b\\| = \\|Ax - \\left(A + \\delta A\\right)x\\|$$\n",
    "\n",
    "$$=\\|\\left(\\delta A\\right)x\\|$$\n",
    "\n",
    "Given $\\left(\\delta A\\right)x \\approx \\left(\\delta A\\right) A^{-1}b$ and $\\|Ax - b\\| = \\|\\left(\\delta A\\right)x\\|$, then:\n",
    "\n",
    "$$\\frac{\\|Ax - b\\|}{b} \\approx \\frac{\\|\\left(\\delta A\\right)A^{-1}b\\|}{\\|b\\|}$$\n",
    "\n",
    "$$ = \\frac{\\|\\left(\\delta A\\right)A^{-1}b\\|}{\\|b\\|} \\frac{\\|A\\|}{\\|\\delta A\\|} \\frac{\\|\\delta A\\|}{\\|A\\|}$$\n",
    "\n",
    "By consistency:\n",
    "\n",
    "$$\\approx \\frac{\\|\\delta A\\| \\|A^{-1}\\| \\|b\\|}{\\|b\\|} \\frac{\\|A\\|}{\\|\\delta A\\|} \\frac{\\|\\delta A\\|}{\\|A\\|}$$\n",
    "\n",
    "$$ = \\|A^{-1}\\| \\|A\\|\\frac{\\|\\delta A\\|}{\\|A\\|}$$\n",
    "\n",
    "$$\\approx \\kappa_2\\left(A\\right) \\epsilon_M \\frac{\\|A\\|}{\\|A\\|}$$\n",
    "\n",
    "$$= \\kappa_2\\left(A\\right) \\epsilon_M$$"
   ]
  },
  {
   "cell_type": "markdown",
   "metadata": {},
   "source": [
    "***To estimate $e_n$ in terms of $\\kappa_2\\left(A\\right)$, first define a function to calculate this condition number for $A$:***"
   ]
  },
  {
   "cell_type": "code",
   "execution_count": 20,
   "metadata": {
    "collapsed": true
   },
   "outputs": [],
   "source": [
    "def cn(A):\n",
    "    return norm(inv(A)) * norm(A)"
   ]
  },
  {
   "cell_type": "markdown",
   "metadata": {},
   "source": [
    "***Estimate $e_n$:***"
   ]
  },
  {
   "cell_type": "code",
   "execution_count": 21,
   "metadata": {
    "collapsed": true
   },
   "outputs": [],
   "source": [
    "ens2 = []\n",
    "for n in range(5,26):\n",
    "    A = pmatrix(n)\n",
    "    ens2.append(cn(A) * epsilon)"
   ]
  },
  {
   "cell_type": "code",
   "execution_count": 22,
   "metadata": {
    "collapsed": false
   },
   "outputs": [
    {
     "data": {
      "text/html": [
       "<div>\n",
       "<table border=\"1\" class=\"dataframe\">\n",
       "  <thead>\n",
       "    <tr style=\"text-align: right;\">\n",
       "      <th></th>\n",
       "      <th>$e_n$</th>\n",
       "    </tr>\n",
       "  </thead>\n",
       "  <tbody>\n",
       "    <tr>\n",
       "      <th>5</th>\n",
       "      <td>5.304868e-14</td>\n",
       "    </tr>\n",
       "    <tr>\n",
       "      <th>6</th>\n",
       "      <td>1.182495e-13</td>\n",
       "    </tr>\n",
       "    <tr>\n",
       "      <th>7</th>\n",
       "      <td>2.583643e-13</td>\n",
       "    </tr>\n",
       "    <tr>\n",
       "      <th>8</th>\n",
       "      <td>5.569197e-13</td>\n",
       "    </tr>\n",
       "    <tr>\n",
       "      <th>9</th>\n",
       "      <td>1.188721e-12</td>\n",
       "    </tr>\n",
       "    <tr>\n",
       "      <th>10</th>\n",
       "      <td>2.518267e-12</td>\n",
       "    </tr>\n",
       "    <tr>\n",
       "      <th>11</th>\n",
       "      <td>5.303214e-12</td>\n",
       "    </tr>\n",
       "    <tr>\n",
       "      <th>12</th>\n",
       "      <td>1.111421e-11</td>\n",
       "    </tr>\n",
       "    <tr>\n",
       "      <th>13</th>\n",
       "      <td>2.319954e-11</td>\n",
       "    </tr>\n",
       "    <tr>\n",
       "      <th>14</th>\n",
       "      <td>4.826324e-11</td>\n",
       "    </tr>\n",
       "    <tr>\n",
       "      <th>15</th>\n",
       "      <td>1.001160e-10</td>\n",
       "    </tr>\n",
       "    <tr>\n",
       "      <th>16</th>\n",
       "      <td>2.071626e-10</td>\n",
       "    </tr>\n",
       "    <tr>\n",
       "      <th>17</th>\n",
       "      <td>4.277372e-10</td>\n",
       "    </tr>\n",
       "    <tr>\n",
       "      <th>18</th>\n",
       "      <td>8.814826e-10</td>\n",
       "    </tr>\n",
       "    <tr>\n",
       "      <th>19</th>\n",
       "      <td>1.813490e-09</td>\n",
       "    </tr>\n",
       "    <tr>\n",
       "      <th>20</th>\n",
       "      <td>3.725290e-09</td>\n",
       "    </tr>\n",
       "    <tr>\n",
       "      <th>21</th>\n",
       "      <td>7.642143e-09</td>\n",
       "    </tr>\n",
       "    <tr>\n",
       "      <th>22</th>\n",
       "      <td>1.565804e-08</td>\n",
       "    </tr>\n",
       "    <tr>\n",
       "      <th>23</th>\n",
       "      <td>3.204616e-08</td>\n",
       "    </tr>\n",
       "    <tr>\n",
       "      <th>24</th>\n",
       "      <td>6.551994e-08</td>\n",
       "    </tr>\n",
       "    <tr>\n",
       "      <th>25</th>\n",
       "      <td>1.338342e-07</td>\n",
       "    </tr>\n",
       "  </tbody>\n",
       "</table>\n",
       "</div>"
      ],
      "text/plain": [
       "           $e_n$\n",
       "5   5.304868e-14\n",
       "6   1.182495e-13\n",
       "7   2.583643e-13\n",
       "8   5.569197e-13\n",
       "9   1.188721e-12\n",
       "10  2.518267e-12\n",
       "11  5.303214e-12\n",
       "12  1.111421e-11\n",
       "13  2.319954e-11\n",
       "14  4.826324e-11\n",
       "15  1.001160e-10\n",
       "16  2.071626e-10\n",
       "17  4.277372e-10\n",
       "18  8.814826e-10\n",
       "19  1.813490e-09\n",
       "20  3.725290e-09\n",
       "21  7.642143e-09\n",
       "22  1.565804e-08\n",
       "23  3.204616e-08\n",
       "24  6.551994e-08\n",
       "25  1.338342e-07"
      ]
     },
     "execution_count": 22,
     "metadata": {},
     "output_type": "execute_result"
    }
   ],
   "source": [
    "rr2 = DataFrame.from_dict({'$e_n$':ens2})\n",
    "rr2.index = range(5,26)\n",
    "rr2"
   ]
  },
  {
   "cell_type": "markdown",
   "metadata": {},
   "source": [
    "### Part f)"
   ]
  },
  {
   "cell_type": "markdown",
   "metadata": {
    "collapsed": true
   },
   "source": [
    "To show $\\|Ax-b\\| = \\|A^{-T}\\|\\left(\\delta A\\right)x\\|$:\n",
    "\n",
    "Solve $\\left(A^{T}A + \\delta A\\right)x = A^T b$ for $b$:\n",
    "\n",
    "$$b = A^{-T}\\left(A^T A + \\delta A\\right)x$$\n",
    "\n",
    "Substituting $b$:\n",
    "\n",
    "$$\\|Ax - A^{-T}\\left(A^T A + \\delta A\\right)x\\|$$\n",
    "\n",
    "$$= \\|Ax - Ax - A^{-T}\\left(\\delta A\\right)x\\|$$\n",
    "\n",
    "$$=\\|A^{-T}\\left(\\delta A\\right)x\\|$$\n",
    "\n",
    "which is what we set out to show.\n",
    "\n",
    "Now, given that $\\left(\\delta A\\right)x \\approx \\left(\\delta A\\right)\\left(A^T A\\right)^{-1}A^T b$ and $\\|A^T b\\| \\approx \\|b\\|$, we can write the following approximation:\n",
    "\n",
    "$$\\frac{\\|Ax - b\\|}{\\|b\\|} \\approx \\frac{\\|A^{-T} \\left(\\delta A\\right)\\left(A^T A\\right)^{-1}A^T b\\|}{\\|A^T b\\|}$$\n",
    "\n",
    "$$ = \\frac{\\|A^{-T} \\left(\\delta A\\right)\\left(A^T A\\right)^{-1}A^T b\\|}{\\|A^T b\\|} \\frac{\\|A^T A\\|}{\\|\\delta A\\|} \\frac{\\|\\delta A\\|}{\\|A^T A\\|}$$\n",
    "\n",
    "$$ \\approx \\frac{\\|A^{-T}\\| \\|\\left(\\delta A\\right)\\| \\|\\left(A^T A\\right)^{-1}\\| \\|A^T b\\|}{\\|A^T b\\|} \\frac{\\|A^T A\\|}{\\|\\delta A\\|} \\frac{\\|\\delta A\\|}{\\|A^T A\\|}$$\n",
    "\n",
    "$$ = \\|A^{-T}\\| \\|\\left(A^T A\\right)^{-1}\\| \\|A^T A\\| \\frac{\\|\\delta A\\|}{\\|A^T A\\|}$$\n",
    "\n",
    "$$ \\approx \\|A^{-T}\\| \\kappa_2\\left(A^T A\\right) \\epsilon_M \\frac{\\|A^T A\\|}{\\|A^T A\\|}$$\n",
    "\n",
    "$$ \\approx \\|A^{-T}\\| \\left[\\kappa_2\\left(A\\right)\\right]^2 \\epsilon_M $$\n",
    "\n",
    "$$ \\approx \\|A^{-T}\\| \\left(2^n\\right)^2 \\epsilon_M $$\n",
    "\n",
    "$$ \\approx \\|A^{-T}\\| 4^{n} \\epsilon_M $$"
   ]
  },
  {
   "cell_type": "markdown",
   "metadata": {},
   "source": [
    "***Produce the estimate of $f_n$ based on $\\|A^{-T}\\| \\left[\\kappa_2\\left(A\\right)\\right]^2 \\epsilon_M $:***"
   ]
  },
  {
   "cell_type": "code",
   "execution_count": 23,
   "metadata": {
    "collapsed": false
   },
   "outputs": [],
   "source": [
    "fns2 = []\n",
    "for n in range(5,26):\n",
    "    A = pmatrix(n)\n",
    "    fns2.append(norm(inv(A)) * cn(A)**2 * epsilon)"
   ]
  },
  {
   "cell_type": "code",
   "execution_count": 24,
   "metadata": {
    "collapsed": false
   },
   "outputs": [
    {
     "data": {
      "text/html": [
       "<div>\n",
       "<table border=\"1\" class=\"dataframe\">\n",
       "  <thead>\n",
       "    <tr style=\"text-align: right;\">\n",
       "      <th></th>\n",
       "      <th>$f_n$</th>\n",
       "    </tr>\n",
       "  </thead>\n",
       "  <tbody>\n",
       "    <tr>\n",
       "      <th>5</th>\n",
       "      <td>1.101241e-10</td>\n",
       "    </tr>\n",
       "    <tr>\n",
       "      <th>6</th>\n",
       "      <td>1.096175e-09</td>\n",
       "    </tr>\n",
       "    <tr>\n",
       "      <th>7</th>\n",
       "      <td>1.047093e-08</td>\n",
       "    </tr>\n",
       "    <tr>\n",
       "      <th>8</th>\n",
       "      <td>9.731838e-08</td>\n",
       "    </tr>\n",
       "    <tr>\n",
       "      <th>9</th>\n",
       "      <td>8.867814e-07</td>\n",
       "    </tr>\n",
       "    <tr>\n",
       "      <th>10</th>\n",
       "      <td>7.959660e-06</td>\n",
       "    </tr>\n",
       "    <tr>\n",
       "      <th>11</th>\n",
       "      <td>7.059934e-05</td>\n",
       "    </tr>\n",
       "    <tr>\n",
       "      <th>12</th>\n",
       "      <td>6.201683e-04</td>\n",
       "    </tr>\n",
       "    <tr>\n",
       "      <th>13</th>\n",
       "      <td>5.404327e-03</td>\n",
       "    </tr>\n",
       "    <tr>\n",
       "      <th>14</th>\n",
       "      <td>4.677845e-02</td>\n",
       "    </tr>\n",
       "    <tr>\n",
       "      <th>15</th>\n",
       "      <td>4.025782e-01</td>\n",
       "    </tr>\n",
       "    <tr>\n",
       "      <th>16</th>\n",
       "      <td>3.447430e+00</td>\n",
       "    </tr>\n",
       "    <tr>\n",
       "      <th>17</th>\n",
       "      <td>2.939388e+01</td>\n",
       "    </tr>\n",
       "    <tr>\n",
       "      <th>18</th>\n",
       "      <td>2.496665e+02</td>\n",
       "    </tr>\n",
       "    <tr>\n",
       "      <th>19</th>\n",
       "      <td>2.113456e+03</td>\n",
       "    </tr>\n",
       "    <tr>\n",
       "      <th>20</th>\n",
       "      <td>1.783664e+04</td>\n",
       "    </tr>\n",
       "    <tr>\n",
       "      <th>21</th>\n",
       "      <td>1.501251e+05</td>\n",
       "    </tr>\n",
       "    <tr>\n",
       "      <th>22</th>\n",
       "      <td>1.260456e+06</td>\n",
       "    </tr>\n",
       "    <tr>\n",
       "      <th>23</th>\n",
       "      <td>1.055929e+07</td>\n",
       "    </tr>\n",
       "    <tr>\n",
       "      <th>24</th>\n",
       "      <td>8.827948e+07</td>\n",
       "    </tr>\n",
       "    <tr>\n",
       "      <th>25</th>\n",
       "      <td>7.366770e+08</td>\n",
       "    </tr>\n",
       "  </tbody>\n",
       "</table>\n",
       "</div>"
      ],
      "text/plain": [
       "           $f_n$\n",
       "5   1.101241e-10\n",
       "6   1.096175e-09\n",
       "7   1.047093e-08\n",
       "8   9.731838e-08\n",
       "9   8.867814e-07\n",
       "10  7.959660e-06\n",
       "11  7.059934e-05\n",
       "12  6.201683e-04\n",
       "13  5.404327e-03\n",
       "14  4.677845e-02\n",
       "15  4.025782e-01\n",
       "16  3.447430e+00\n",
       "17  2.939388e+01\n",
       "18  2.496665e+02\n",
       "19  2.113456e+03\n",
       "20  1.783664e+04\n",
       "21  1.501251e+05\n",
       "22  1.260456e+06\n",
       "23  1.055929e+07\n",
       "24  8.827948e+07\n",
       "25  7.366770e+08"
      ]
     },
     "execution_count": 24,
     "metadata": {},
     "output_type": "execute_result"
    }
   ],
   "source": [
    "rf2 = DataFrame.from_dict({'$f_n$':fns2})\n",
    "rf2.index = range(5,26)\n",
    "rf2"
   ]
  },
  {
   "cell_type": "markdown",
   "metadata": {},
   "source": [
    "### Part g)"
   ]
  },
  {
   "cell_type": "markdown",
   "metadata": {},
   "source": [
    "***Produce the estimate of $f_n\\big /e_n$ based on parts e and f:***"
   ]
  },
  {
   "cell_type": "code",
   "execution_count": 25,
   "metadata": {
    "collapsed": false
   },
   "outputs": [],
   "source": [
    "rfe = [fns2[n]/ens2[n] for n in xrange(len(fns2))]"
   ]
  },
  {
   "cell_type": "code",
   "execution_count": 26,
   "metadata": {
    "collapsed": false
   },
   "outputs": [
    {
     "data": {
      "text/html": [
       "<div>\n",
       "<table border=\"1\" class=\"dataframe\">\n",
       "  <thead>\n",
       "    <tr style=\"text-align: right;\">\n",
       "      <th></th>\n",
       "      <th>$f_n / e_n$</th>\n",
       "    </tr>\n",
       "  </thead>\n",
       "  <tbody>\n",
       "    <tr>\n",
       "      <th>5</th>\n",
       "      <td>2.075907e+03</td>\n",
       "    </tr>\n",
       "    <tr>\n",
       "      <th>6</th>\n",
       "      <td>9.270017e+03</td>\n",
       "    </tr>\n",
       "    <tr>\n",
       "      <th>7</th>\n",
       "      <td>4.052776e+04</td>\n",
       "    </tr>\n",
       "    <tr>\n",
       "      <th>8</th>\n",
       "      <td>1.747440e+05</td>\n",
       "    </tr>\n",
       "    <tr>\n",
       "      <th>9</th>\n",
       "      <td>7.459960e+05</td>\n",
       "    </tr>\n",
       "    <tr>\n",
       "      <th>10</th>\n",
       "      <td>3.160769e+06</td>\n",
       "    </tr>\n",
       "    <tr>\n",
       "      <th>11</th>\n",
       "      <td>1.331256e+07</td>\n",
       "    </tr>\n",
       "    <tr>\n",
       "      <th>12</th>\n",
       "      <td>5.579961e+07</td>\n",
       "    </tr>\n",
       "    <tr>\n",
       "      <th>13</th>\n",
       "      <td>2.329497e+08</td>\n",
       "    </tr>\n",
       "    <tr>\n",
       "      <th>14</th>\n",
       "      <td>9.692355e+08</td>\n",
       "    </tr>\n",
       "    <tr>\n",
       "      <th>15</th>\n",
       "      <td>4.021115e+09</td>\n",
       "    </tr>\n",
       "    <tr>\n",
       "      <th>16</th>\n",
       "      <td>1.664118e+10</td>\n",
       "    </tr>\n",
       "    <tr>\n",
       "      <th>17</th>\n",
       "      <td>6.871948e+10</td>\n",
       "    </tr>\n",
       "    <tr>\n",
       "      <th>18</th>\n",
       "      <td>2.832348e+11</td>\n",
       "    </tr>\n",
       "    <tr>\n",
       "      <th>19</th>\n",
       "      <td>1.165408e+12</td>\n",
       "    </tr>\n",
       "    <tr>\n",
       "      <th>20</th>\n",
       "      <td>4.787987e+12</td>\n",
       "    </tr>\n",
       "    <tr>\n",
       "      <th>21</th>\n",
       "      <td>1.964436e+13</td>\n",
       "    </tr>\n",
       "    <tr>\n",
       "      <th>22</th>\n",
       "      <td>8.049895e+13</td>\n",
       "    </tr>\n",
       "    <tr>\n",
       "      <th>23</th>\n",
       "      <td>3.295025e+14</td>\n",
       "    </tr>\n",
       "    <tr>\n",
       "      <th>24</th>\n",
       "      <td>1.347368e+15</td>\n",
       "    </tr>\n",
       "    <tr>\n",
       "      <th>25</th>\n",
       "      <td>5.504400e+15</td>\n",
       "    </tr>\n",
       "  </tbody>\n",
       "</table>\n",
       "</div>"
      ],
      "text/plain": [
       "     $f_n / e_n$\n",
       "5   2.075907e+03\n",
       "6   9.270017e+03\n",
       "7   4.052776e+04\n",
       "8   1.747440e+05\n",
       "9   7.459960e+05\n",
       "10  3.160769e+06\n",
       "11  1.331256e+07\n",
       "12  5.579961e+07\n",
       "13  2.329497e+08\n",
       "14  9.692355e+08\n",
       "15  4.021115e+09\n",
       "16  1.664118e+10\n",
       "17  6.871948e+10\n",
       "18  2.832348e+11\n",
       "19  1.165408e+12\n",
       "20  4.787987e+12\n",
       "21  1.964436e+13\n",
       "22  8.049895e+13\n",
       "23  3.295025e+14\n",
       "24  1.347368e+15\n",
       "25  5.504400e+15"
      ]
     },
     "execution_count": 26,
     "metadata": {},
     "output_type": "execute_result"
    }
   ],
   "source": [
    "rfr = DataFrame.from_dict({'$f_n / e_n$':rfe})\n",
    "rfr.index = range(5,26)\n",
    "rfr"
   ]
  },
  {
   "cell_type": "markdown",
   "metadata": {},
   "source": [
    "The first thing to notice is that the ratio blows up and becomes very large as $n$ increases. This is expected as in the normal equations method $f_n$ scales by a factor of $\\|A^{-T}\\|$ as we as $\\left[\\kappa_2\\left(A\\right)\\right]^2 \\approx 4^n$, which clearly make the ratio $f_n \\big / e_n$ blow up with even small changes in $n$."
   ]
  }
 ],
 "metadata": {
  "kernelspec": {
   "display_name": "Python 2",
   "language": "python",
   "name": "python2"
  },
  "language_info": {
   "codemirror_mode": {
    "name": "ipython",
    "version": 2
   },
   "file_extension": ".py",
   "mimetype": "text/x-python",
   "name": "python",
   "nbconvert_exporter": "python",
   "pygments_lexer": "ipython2",
   "version": "2.7.12"
  }
 },
 "nbformat": 4,
 "nbformat_minor": 0
}
